{
 "cells": [
  {
   "cell_type": "markdown",
   "id": "79c819ff-7a90-43d5-a43c-0abfcc50ff76",
   "metadata": {},
   "source": [
    "# Import Required Libraries"
   ]
  },
  {
   "cell_type": "code",
   "execution_count": 1,
   "id": "b5b7597f-1a80-4bb7-97d4-44fbd0c891d5",
   "metadata": {},
   "outputs": [
    {
     "name": "stdout",
     "output_type": "stream",
     "text": [
      "Collecting pdfplumber\n",
      "  Using cached pdfplumber-0.11.0-py3-none-any.whl.metadata (39 kB)\n",
      "Collecting pdfminer.six==20231228 (from pdfplumber)\n",
      "  Using cached pdfminer.six-20231228-py3-none-any.whl.metadata (4.2 kB)\n",
      "Requirement already satisfied: Pillow>=9.1 in /home/cv/anaconda3/lib/python3.11/site-packages (from pdfplumber) (10.2.0)\n",
      "Collecting pypdfium2>=4.18.0 (from pdfplumber)\n",
      "  Downloading pypdfium2-4.29.0-py3-none-manylinux_2_17_x86_64.manylinux2014_x86_64.whl.metadata (48 kB)\n",
      "\u001b[2K     \u001b[38;2;114;156;31m━━━━━━━━━━━━━━━━━━━━━━━━━━━━━━━━━━━━━━━\u001b[0m \u001b[32m48.5/48.5 kB\u001b[0m \u001b[31m177.8 kB/s\u001b[0m eta \u001b[36m0:00:00\u001b[0m1m223.3 kB/s\u001b[0m eta \u001b[36m0:00:01\u001b[0m\n",
      "\u001b[?25hRequirement already satisfied: charset-normalizer>=2.0.0 in /home/cv/anaconda3/lib/python3.11/site-packages (from pdfminer.six==20231228->pdfplumber) (2.0.4)\n",
      "Requirement already satisfied: cryptography>=36.0.0 in /home/cv/anaconda3/lib/python3.11/site-packages (from pdfminer.six==20231228->pdfplumber) (42.0.2)\n",
      "Requirement already satisfied: cffi>=1.12 in /home/cv/anaconda3/lib/python3.11/site-packages (from cryptography>=36.0.0->pdfminer.six==20231228->pdfplumber) (1.16.0)\n",
      "Requirement already satisfied: pycparser in /home/cv/anaconda3/lib/python3.11/site-packages (from cffi>=1.12->cryptography>=36.0.0->pdfminer.six==20231228->pdfplumber) (2.21)\n",
      "Using cached pdfplumber-0.11.0-py3-none-any.whl (56 kB)\n",
      "Using cached pdfminer.six-20231228-py3-none-any.whl (5.6 MB)\n",
      "Downloading pypdfium2-4.29.0-py3-none-manylinux_2_17_x86_64.manylinux2014_x86_64.whl (2.8 MB)\n",
      "\u001b[2K   \u001b[38;2;114;156;31m━━━━━━━━━━━━━━━━━━━━━━━━━━━━━━━━━━━━━━━━\u001b[0m \u001b[32m2.8/2.8 MB\u001b[0m \u001b[31m110.0 kB/s\u001b[0m eta \u001b[36m0:00:00\u001b[0mm eta \u001b[36m0:00:01\u001b[0m[36m0:00:01\u001b[0m\n",
      "\u001b[?25hInstalling collected packages: pypdfium2, pdfminer.six, pdfplumber\n",
      "Successfully installed pdfminer.six-20231228 pdfplumber-0.11.0 pypdfium2-4.29.0\n",
      "Collecting langchain\n",
      "  Downloading langchain-0.1.15-py3-none-any.whl.metadata (13 kB)\n",
      "Requirement already satisfied: PyYAML>=5.3 in /home/cv/anaconda3/lib/python3.11/site-packages (from langchain) (6.0.1)\n",
      "Requirement already satisfied: SQLAlchemy<3,>=1.4 in /home/cv/anaconda3/lib/python3.11/site-packages (from langchain) (2.0.25)\n",
      "Requirement already satisfied: aiohttp<4.0.0,>=3.8.3 in /home/cv/anaconda3/lib/python3.11/site-packages (from langchain) (3.9.3)\n",
      "Collecting dataclasses-json<0.7,>=0.5.7 (from langchain)\n",
      "  Using cached dataclasses_json-0.6.4-py3-none-any.whl.metadata (25 kB)\n",
      "Collecting jsonpatch<2.0,>=1.33 (from langchain)\n",
      "  Using cached jsonpatch-1.33-py2.py3-none-any.whl.metadata (3.0 kB)\n",
      "Collecting langchain-community<0.1,>=0.0.32 (from langchain)\n",
      "  Downloading langchain_community-0.0.32-py3-none-any.whl.metadata (8.5 kB)\n",
      "Collecting langchain-core<0.2.0,>=0.1.41 (from langchain)\n",
      "  Downloading langchain_core-0.1.41-py3-none-any.whl.metadata (5.9 kB)\n",
      "Collecting langchain-text-splitters<0.1,>=0.0.1 (from langchain)\n",
      "  Using cached langchain_text_splitters-0.0.1-py3-none-any.whl.metadata (2.0 kB)\n",
      "Collecting langsmith<0.2.0,>=0.1.17 (from langchain)\n",
      "  Downloading langsmith-0.1.45-py3-none-any.whl.metadata (13 kB)\n",
      "Requirement already satisfied: numpy<2,>=1 in /home/cv/anaconda3/lib/python3.11/site-packages (from langchain) (1.26.4)\n",
      "Requirement already satisfied: pydantic<3,>=1 in /home/cv/anaconda3/lib/python3.11/site-packages (from langchain) (1.10.12)\n",
      "Requirement already satisfied: requests<3,>=2 in /home/cv/anaconda3/lib/python3.11/site-packages (from langchain) (2.31.0)\n",
      "Requirement already satisfied: tenacity<9.0.0,>=8.1.0 in /home/cv/anaconda3/lib/python3.11/site-packages (from langchain) (8.2.2)\n",
      "Requirement already satisfied: aiosignal>=1.1.2 in /home/cv/anaconda3/lib/python3.11/site-packages (from aiohttp<4.0.0,>=3.8.3->langchain) (1.2.0)\n",
      "Requirement already satisfied: attrs>=17.3.0 in /home/cv/anaconda3/lib/python3.11/site-packages (from aiohttp<4.0.0,>=3.8.3->langchain) (23.1.0)\n",
      "Requirement already satisfied: frozenlist>=1.1.1 in /home/cv/anaconda3/lib/python3.11/site-packages (from aiohttp<4.0.0,>=3.8.3->langchain) (1.4.0)\n",
      "Requirement already satisfied: multidict<7.0,>=4.5 in /home/cv/anaconda3/lib/python3.11/site-packages (from aiohttp<4.0.0,>=3.8.3->langchain) (6.0.4)\n",
      "Requirement already satisfied: yarl<2.0,>=1.0 in /home/cv/anaconda3/lib/python3.11/site-packages (from aiohttp<4.0.0,>=3.8.3->langchain) (1.9.3)\n",
      "Collecting marshmallow<4.0.0,>=3.18.0 (from dataclasses-json<0.7,>=0.5.7->langchain)\n",
      "  Using cached marshmallow-3.21.1-py3-none-any.whl.metadata (7.2 kB)\n",
      "Collecting typing-inspect<1,>=0.4.0 (from dataclasses-json<0.7,>=0.5.7->langchain)\n",
      "  Using cached typing_inspect-0.9.0-py3-none-any.whl.metadata (1.5 kB)\n",
      "Requirement already satisfied: jsonpointer>=1.9 in /home/cv/anaconda3/lib/python3.11/site-packages (from jsonpatch<2.0,>=1.33->langchain) (2.1)\n",
      "Collecting packaging<24.0,>=23.2 (from langchain-core<0.2.0,>=0.1.41->langchain)\n",
      "  Using cached packaging-23.2-py3-none-any.whl.metadata (3.2 kB)\n",
      "Collecting orjson<4.0.0,>=3.9.14 (from langsmith<0.2.0,>=0.1.17->langchain)\n",
      "  Downloading orjson-3.10.0-cp311-cp311-manylinux_2_17_x86_64.manylinux2014_x86_64.whl.metadata (49 kB)\n",
      "\u001b[2K     \u001b[38;2;114;156;31m━━━━━━━━━━━━━━━━━━━━━━━━━━━━━━━━━━━━━━━\u001b[0m \u001b[32m49.5/49.5 kB\u001b[0m \u001b[31m230.1 kB/s\u001b[0m eta \u001b[36m0:00:00\u001b[0m kB/s\u001b[0m eta \u001b[36m0:00:01\u001b[0m\n",
      "\u001b[?25hRequirement already satisfied: typing-extensions>=4.2.0 in /home/cv/anaconda3/lib/python3.11/site-packages (from pydantic<3,>=1->langchain) (4.9.0)\n",
      "Requirement already satisfied: charset-normalizer<4,>=2 in /home/cv/anaconda3/lib/python3.11/site-packages (from requests<3,>=2->langchain) (2.0.4)\n",
      "Requirement already satisfied: idna<4,>=2.5 in /home/cv/anaconda3/lib/python3.11/site-packages (from requests<3,>=2->langchain) (3.4)\n",
      "Requirement already satisfied: urllib3<3,>=1.21.1 in /home/cv/anaconda3/lib/python3.11/site-packages (from requests<3,>=2->langchain) (2.0.7)\n",
      "Requirement already satisfied: certifi>=2017.4.17 in /home/cv/anaconda3/lib/python3.11/site-packages (from requests<3,>=2->langchain) (2024.2.2)\n",
      "Requirement already satisfied: greenlet!=0.4.17 in /home/cv/anaconda3/lib/python3.11/site-packages (from SQLAlchemy<3,>=1.4->langchain) (3.0.1)\n",
      "Requirement already satisfied: mypy-extensions>=0.3.0 in /home/cv/anaconda3/lib/python3.11/site-packages (from typing-inspect<1,>=0.4.0->dataclasses-json<0.7,>=0.5.7->langchain) (1.0.0)\n",
      "Downloading langchain-0.1.15-py3-none-any.whl (814 kB)\n",
      "\u001b[2K   \u001b[38;2;114;156;31m━━━━━━━━━━━━━━━━━━━━━━━━━━━━━━━━━━━━━━━\u001b[0m \u001b[32m814.5/814.5 kB\u001b[0m \u001b[31m399.7 kB/s\u001b[0m eta \u001b[36m0:00:00\u001b[0m[36m0:00:01\u001b[0mm eta \u001b[36m0:00:01\u001b[0m\n",
      "\u001b[?25hUsing cached dataclasses_json-0.6.4-py3-none-any.whl (28 kB)\n",
      "Using cached jsonpatch-1.33-py2.py3-none-any.whl (12 kB)\n",
      "Downloading langchain_community-0.0.32-py3-none-any.whl (1.9 MB)\n",
      "\u001b[2K   \u001b[38;2;114;156;31m━━━━━━━━━━━━━━━━━━━━━━━━━━━━━━━━━━━━━━━━\u001b[0m \u001b[32m1.9/1.9 MB\u001b[0m \u001b[31m120.6 kB/s\u001b[0m eta \u001b[36m0:00:00\u001b[0mm eta \u001b[36m0:00:01\u001b[0m[36m0:00:01\u001b[0m\n",
      "\u001b[?25hDownloading langchain_core-0.1.41-py3-none-any.whl (278 kB)\n",
      "\u001b[2K   \u001b[38;2;114;156;31m━━━━━━━━━━━━━━━━━━━━━━━━━━━━━━━━━━━━━━━━\u001b[0m \u001b[32m278.4/278.4 kB\u001b[0m \u001b[31m63.0 kB/s\u001b[0m eta \u001b[36m0:00:00\u001b[0mm eta \u001b[36m0:00:01\u001b[0m0:01\u001b[0m:01\u001b[0m\n",
      "\u001b[?25hUsing cached langchain_text_splitters-0.0.1-py3-none-any.whl (21 kB)\n",
      "Downloading langsmith-0.1.45-py3-none-any.whl (104 kB)\n",
      "\u001b[2K   \u001b[38;2;114;156;31m━━━━━━━━━━━━━━━━━━━━━━━━━━━━━━━━━━━━━━━━\u001b[0m \u001b[32m104.2/104.2 kB\u001b[0m \u001b[31m76.7 kB/s\u001b[0m eta \u001b[36m0:00:00\u001b[0m[36m0:00:01\u001b[0m36m0:00:01\u001b[0m:01\u001b[0m\n",
      "\u001b[?25hUsing cached marshmallow-3.21.1-py3-none-any.whl (49 kB)\n",
      "Downloading orjson-3.10.0-cp311-cp311-manylinux_2_17_x86_64.manylinux2014_x86_64.whl (144 kB)\n",
      "\u001b[2K   \u001b[38;2;114;156;31m━━━━━━━━━━━━━━━━━━━━━━━━━━━━━━━━━━━━━━━━\u001b[0m \u001b[32m144.8/144.8 kB\u001b[0m \u001b[31m80.4 kB/s\u001b[0m eta \u001b[36m0:00:00\u001b[0m31m75.3 kB/s\u001b[0m eta \u001b[36m0:00:01\u001b[0m\n",
      "\u001b[?25hUsing cached packaging-23.2-py3-none-any.whl (53 kB)\n",
      "Using cached typing_inspect-0.9.0-py3-none-any.whl (8.8 kB)\n",
      "Installing collected packages: typing-inspect, packaging, orjson, jsonpatch, marshmallow, langsmith, langchain-core, dataclasses-json, langchain-text-splitters, langchain-community, langchain\n",
      "  Attempting uninstall: packaging\n",
      "    Found existing installation: packaging 23.1\n",
      "    Uninstalling packaging-23.1:\n",
      "      Successfully uninstalled packaging-23.1\n",
      "  Attempting uninstall: jsonpatch\n",
      "    Found existing installation: jsonpatch 1.32\n",
      "    Uninstalling jsonpatch-1.32:\n",
      "      Successfully uninstalled jsonpatch-1.32\n",
      "Successfully installed dataclasses-json-0.6.4 jsonpatch-1.33 langchain-0.1.15 langchain-community-0.0.32 langchain-core-0.1.41 langchain-text-splitters-0.0.1 langsmith-0.1.45 marshmallow-3.21.1 orjson-3.10.0 packaging-23.2 typing-inspect-0.9.0\n"
     ]
    }
   ],
   "source": [
    "!pip install pdfplumber\n",
    "!pip install langchain"
   ]
  },
  {
   "cell_type": "code",
   "execution_count": 3,
   "id": "a88af3e8-3d05-468b-815b-771d888332ec",
   "metadata": {},
   "outputs": [
    {
     "name": "stdout",
     "output_type": "stream",
     "text": [
      "Collecting nltk\n",
      "  Downloading nltk-3.8.1-py3-none-any.whl.metadata (2.8 kB)\n",
      "Requirement already satisfied: click in ./myenv-test002-03/lib/python3.9/site-packages (from nltk) (8.1.7)\n",
      "Collecting joblib (from nltk)\n",
      "  Downloading joblib-1.4.0-py3-none-any.whl.metadata (5.4 kB)\n",
      "Requirement already satisfied: regex>=2021.8.3 in ./myenv-test002-03/lib/python3.9/site-packages (from nltk) (2023.12.25)\n",
      "Requirement already satisfied: tqdm in ./myenv-test002-03/lib/python3.9/site-packages (from nltk) (4.66.2)\n",
      "Downloading nltk-3.8.1-py3-none-any.whl (1.5 MB)\n",
      "\u001b[2K   \u001b[38;2;114;156;31m━━━━━━━━━━━━━━━━━━━━━━━━━━━━━━━━━━━━━━━━\u001b[0m \u001b[32m1.5/1.5 MB\u001b[0m \u001b[31m41.4 kB/s\u001b[0m eta \u001b[36m0:00:00\u001b[0mm eta \u001b[36m0:00:01\u001b[0m[36m0:00:02\u001b[0mm\n",
      "\u001b[?25hDownloading joblib-1.4.0-py3-none-any.whl (301 kB)\n",
      "\u001b[2K   \u001b[38;2;114;156;31m━━━━━━━━━━━━━━━━━━━━━━━━━━━━━━━━━━━━━━━━\u001b[0m \u001b[32m301.2/301.2 kB\u001b[0m \u001b[31m55.4 kB/s\u001b[0m eta \u001b[36m0:00:00\u001b[0m[36m0:00:01\u001b[0m[36m0:00:01\u001b[0m:02\u001b[0m\n",
      "\u001b[?25hInstalling collected packages: joblib, nltk\n",
      "Successfully installed joblib-1.4.0 nltk-3.8.1\n",
      "Note: you may need to restart the kernel to use updated packages.\n"
     ]
    }
   ],
   "source": [
    "pip install nltk"
   ]
  },
  {
   "cell_type": "code",
   "execution_count": 9,
   "id": "821646fb-9643-4818-9ff2-53b9d8a37a42",
   "metadata": {},
   "outputs": [
    {
     "name": "stderr",
     "output_type": "stream",
     "text": [
      "[nltk_data] Downloading package punkt to /home/cv/nltk_data...\n",
      "[nltk_data]   Unzipping tokenizers/punkt.zip.\n",
      "[nltk_data] Downloading package wordnet to /home/cv/nltk_data...\n",
      "[nltk_data] Downloading package omw-1.4 to /home/cv/nltk_data...\n"
     ]
    },
    {
     "data": {
      "text/plain": [
       "True"
      ]
     },
     "execution_count": 9,
     "metadata": {},
     "output_type": "execute_result"
    }
   ],
   "source": [
    "import nltk\n",
    "nltk.download('punkt')\n",
    "nltk.download('wordnet')\n",
    "nltk.download('omw-1.4')"
   ]
  },
  {
   "cell_type": "markdown",
   "id": "125c7f8a-2b4b-472e-a97c-5b51c06a6e71",
   "metadata": {},
   "source": [
    "# Extract Text from PDF Files"
   ]
  },
  {
   "cell_type": "markdown",
   "id": "558dc40c-3574-4c05-881e-695dc31308e7",
   "metadata": {},
   "source": [
    "## Import Libraries"
   ]
  },
  {
   "cell_type": "code",
   "execution_count": 21,
   "id": "60ed0da8-6e72-43af-8029-6e34556321f8",
   "metadata": {},
   "outputs": [],
   "source": [
    "from langchain.text_splitter import RecursiveCharacterTextSplitter\n",
    "import pdfplumber"
   ]
  },
  {
   "cell_type": "markdown",
   "id": "59766b86-49c8-407f-a89e-c60886bbb58e",
   "metadata": {},
   "source": [
    "## Process PDF"
   ]
  },
  {
   "cell_type": "code",
   "execution_count": 43,
   "id": "db9d6e2c-7329-4927-ac57-3941f75b8f76",
   "metadata": {},
   "outputs": [],
   "source": [
    "text = ''\n",
    "# Open the PDF file\n",
    "input_directory = \"/home/cv/FYP_Chatbot/Dataset/Books/\"\n",
    "for filename in os.listdir(input_directory):\n",
    "    if filename.endswith('.pdf'):\n",
    "        with pdfplumber.open('/home/cv/FYP_Chatbot/Dataset/Books/04. Photovoltaic Solar Energy Autor Europe’s Energy.pdf') as pdf:\n",
    "            # Loop through each page and extract text\n",
    "            for page in pdf.pages:\n",
    "                text = text + page.extract_text()"
   ]
  },
  {
   "cell_type": "code",
   "execution_count": 44,
   "id": "a9977b3a-cc07-4473-9315-d8c5640cf858",
   "metadata": {},
   "outputs": [
    {
     "name": "stdout",
     "output_type": "stream",
     "text": [
      "P H T\n"
     ]
    }
   ],
   "source": [
    "print(text[0],text[1],text[3])"
   ]
  },
  {
   "cell_type": "markdown",
   "id": "632401c1-c91b-4cf1-b610-08a5db2192ea",
   "metadata": {},
   "source": [
    "## Splitting Parameters"
   ]
  },
  {
   "cell_type": "code",
   "execution_count": 45,
   "id": "6c398acd-6de0-439a-9eb1-449faed122d7",
   "metadata": {},
   "outputs": [],
   "source": [
    "text_splitter = RecursiveCharacterTextSplitter(\n",
    "    chunk_size = 4000,\n",
    "    chunk_overlap= 50\n",
    ")"
   ]
  },
  {
   "cell_type": "markdown",
   "id": "720e2ea1-e476-407d-96eb-b782374d8af5",
   "metadata": {},
   "source": [
    "## Slit the text"
   ]
  },
  {
   "cell_type": "code",
   "execution_count": 46,
   "id": "0dbfc233-d9d0-4d85-a803-9568303aebad",
   "metadata": {},
   "outputs": [],
   "source": [
    "text = text_splitter.create_documents([text])"
   ]
  },
  {
   "cell_type": "code",
   "execution_count": 47,
   "id": "0a420040-d22d-4786-9702-230674e3caa1",
   "metadata": {},
   "outputs": [
    {
     "data": {
      "text/plain": [
       "Document(page_content='electricity. They can be connected in both series and More than 90 % of photovoltaic systems worldwide are\\nparallel electrical arrangements to produce any required currently implemented as grid-connected systems. The\\nvoltage and current combination. power conditioning unit also monitors the functioning\\nof the system and the grid and switches off the system\\nin case of faults.\\nPhotovoltaic Installation\\nAC outlets\\nDC to AC\\ninverter AC\\ncircuit breaker boxes\\ncharge DC\\ncontroller\\nbattery system\\nPV array\\nDC outlets\\n6Photovoltaic market development\\nThe current levels of dependence on fossil fuels, the\\nneed of reducing the carbon emissions associated\\n16 000.0\\nwith energy use and the prospects of developing 16 000\\na new and extremely innovative technology sector, make 12 000\\n9 533.3\\nphotovoltaics increasingly attractive. In the last years the 8 000 White Paper\\n4 940.9\\nphotovoltaic market expanded extensively, especially in 4 000 3 115.4 3 000.0\\nGermany, followed by Spain and Italy. In addition, Greece\\n0\\nis due to be the next fast-growing market. Several incen- 2006 2007 2008 2010\\ntives have stimulated the expansion, rendering the photo-\\nvoltaics industry ready to expand. However, the high Figure 1: Comparison of the recent photovoltaic growth (in MW)\\nin the EU with the White Paper objectives\\nproduction cost of electricity, due to the significant capital\\nSource: EurObserv’ER, 2009.\\ninvestment cost, is the main barrier to large-scale deploy-\\nment of photovoltaics systems.\\nCompetition is increasing. New technologies are being In 2008, the photovoltaic capacity installed in the EU\\ndeveloped. Solar photovoltaic systems today are more was about 4 600 MW, with a total cumulative capacity\\nthan 60 % cheaper than they were in the 1990s. The of more than 9 500 MW achieved. This illustrates an\\nfocus lies now on cost reduction and lowest cost per rated increase of 200 % with respect to 2006. Within the\\nwatt in order to reach competitiveness with all sources of EU market, practically the whole of the newly installed\\nelectricity in the medium term. In the 1997 White Paper (1), capacity is focused on grid-connected power plants.\\nthe European Commission set a target of 3 000 MW of More than 56 % of the EU-27 photovoltaic installations\\nphotovoltaic capacity to be installed in Europe by 2010. are located in Germany.\\nFigure 1 demonstrates the current growth. The White\\nPaper target, already exceeded in 2006, has been more\\nthan tripled in 2008, marking the success of the European\\nsector. In 2010 the total cumulative capacity installed in\\nthe European Union could be as much as 16 000 MW.\\nThe European photovoltaic industry currently has an\\nimportant role in photovoltaic technology development,\\ncapturing about 30 % of the world market of photo-\\nvoltaic modules.\\n(1) White Paper for a Community Strategy and Action Plan. Energy for the Future: Renewable sources of energy.\\nCOM(97)599 final. 26.11.1997. Figures relate to the EU-15.\\n7The leading role in photovoltaic installation is played by\\nGermany, after the renewable energy law came into\\neffect in 2004. Revenues from photovoltaics have climbed\\nmore than 10 times since 2003. The market stagnated\\nsomewhat in 2006 with installed capacity of 830 MW\\ncompared with 866 MW in 2005. Nonetheless, it still\\naccounts for over 56 % of the total EU installed capacity.\\nThere are more than 80 companies involved in produc-\\ntion of thin-layer technology in Germany.\\nAttractive framework needed\\nIn order to boost the adoption of photovoltaics and to\\nincrease its competitiveness in all EU Member States,\\nit is necessary to create an attractive framework. In the\\nfirst place it entails financial support, which encourages\\ngrowth of the industry even where the cost of photo-\\nvoltaics is above grid parity. Another crucial aspect is\\nthe reduction of administrative hurdles and grid barriers.\\nHowever, most Member States do not place importance\\non adequate support to its development. National elec-')"
      ]
     },
     "execution_count": 47,
     "metadata": {},
     "output_type": "execute_result"
    }
   ],
   "source": [
    "text[4]"
   ]
  },
  {
   "cell_type": "markdown",
   "id": "c7599760-0e51-413e-94ce-051ac6499fd5",
   "metadata": {},
   "source": [
    "## Save the text"
   ]
  },
  {
   "cell_type": "code",
   "execution_count": 49,
   "id": "82251b46-5578-4c48-a08c-486ff39cd5d6",
   "metadata": {},
   "outputs": [],
   "source": [
    "output_directory = '/home/cv/FYP_Chatbot/Dataset/TextFromBooks/Approach1/'\n",
    "for index, chunk in enumerate(text, start = 1):\n",
    "    with open(f'{output_directory}file1-chunk{index}.txt', 'w') as file:\n",
    "        file.write(chunk.page_content)"
   ]
  },
  {
   "cell_type": "markdown",
   "id": "95454b26-6b84-4fbe-b4b2-e88ec34a5a49",
   "metadata": {},
   "source": [
    "## Approach 2"
   ]
  },
  {
   "cell_type": "code",
   "execution_count": 14,
   "id": "2e4ac907-1b47-4e55-a1f5-a2dba2d54e45",
   "metadata": {},
   "outputs": [
    {
     "name": "stdout",
     "output_type": "stream",
     "text": [
      "Processing: /home/cv/FYP_Chatbot/Dataset/Books/03. Basic Research Needs for Solar Energy Utilization Autor Department of Energy.pdf\n",
      "Processing: /home/cv/FYP_Chatbot/Dataset/Books/02. The Future of Solar Energy Autor MIT - Massachusetts Institute of Technology.pdf\n",
      "Processing: /home/cv/FYP_Chatbot/Dataset/Books/06. Future of Solar Photovoltaic Autor IRENA – International Renewable Energy Agency.pdf\n",
      "Processing: /home/cv/FYP_Chatbot/Dataset/Books/05. Solar Energy Principles and Possibilities Autor Christopher J Rhodes.pdf\n",
      "Processing: /home/cv/FYP_Chatbot/Dataset/Books/01. Solar Energy Autor Klaus Jäger, Olindo Isabella, Arno H.M. Smets, René A.C.M.M. van Swaaij and Miro Zeman.pdf\n",
      "Processing: /home/cv/FYP_Chatbot/Dataset/Books/04. Photovoltaic Solar Energy Autor Europe’s Energy.pdf\n"
     ]
    }
   ],
   "source": [
    "import os\n",
    "import pdfplumber\n",
    "from nltk.tokenize import word_tokenize\n",
    "\n",
    "def tokenize_text(text):\n",
    "    # Tokenize the text using NLTK\n",
    "    tokens = word_tokenize(text)\n",
    "    return tokens\n",
    "\n",
    "def chunk_and_write_text(tokens, pdf_filename, output_directory, chunk_size=1000, overlap=50):\n",
    "    num_chunks = (len(tokens) - chunk_size) // (chunk_size - overlap) + 1\n",
    "    remainder = len(tokens) % (chunk_size - overlap)\n",
    "\n",
    "    # Create the output directory if it does not exist\n",
    "    if not os.path.exists(output_directory):\n",
    "        os.makedirs(output_directory)\n",
    "\n",
    "    # Write each chunk to a separate file\n",
    "    for i in range(num_chunks):\n",
    "        start = i * (chunk_size - overlap)\n",
    "        end = start + chunk_size\n",
    "        chunk = tokens[start:end]\n",
    "\n",
    "        # Construct output filename\n",
    "        output_filename = f\"{os.path.splitext(os.path.basename(pdf_filename))[0]}-part{i + 1}-overlap{overlap}.txt\"\n",
    "        output_path = os.path.join(output_directory, output_filename)\n",
    "\n",
    "        # Write chunk to file\n",
    "        with open(output_path, 'w') as file:\n",
    "            file.write(' '.join(chunk))\n",
    "\n",
    "def process_pdf_files(input_directory, output_directory):\n",
    "    # Iterate over each PDF file in the directory\n",
    "    for filename in os.listdir(input_directory):\n",
    "        if filename.endswith(\".pdf\"):\n",
    "            pdf_file = os.path.join(input_directory, filename)\n",
    "            print(f\"Processing: {pdf_file}\")\n",
    "\n",
    "            # Extract text from the PDF file\n",
    "            with pdfplumber.open(pdf_file) as pdf:\n",
    "                text = ''\n",
    "                for page in pdf.pages:\n",
    "                    text += page.extract_text()\n",
    "\n",
    "            # Tokenize the text\n",
    "            tokens = tokenize_text(text)\n",
    "\n",
    "            # Chunk the tokens and write to separate files\n",
    "            chunk_and_write_text(tokens, pdf_file, output_directory)\n",
    "\n",
    "def main():\n",
    "    input_directory = \"/home/cv/FYP_Chatbot/Dataset/Books\"\n",
    "    output_directory = \"/home/cv/FYP_Chatbot/Dataset/TextFromBooks\"\n",
    "    process_pdf_files(input_directory, output_directory)\n",
    "\n",
    "if __name__ == \"__main__\":\n",
    "    main()"
   ]
  }
 ],
 "metadata": {
  "kernelspec": {
   "display_name": "myenv-test002-03",
   "language": "python",
   "name": "myenv-test002-03"
  },
  "language_info": {
   "codemirror_mode": {
    "name": "ipython",
    "version": 3
   },
   "file_extension": ".py",
   "mimetype": "text/x-python",
   "name": "python",
   "nbconvert_exporter": "python",
   "pygments_lexer": "ipython3",
   "version": "3.9.16"
  }
 },
 "nbformat": 4,
 "nbformat_minor": 5
}
